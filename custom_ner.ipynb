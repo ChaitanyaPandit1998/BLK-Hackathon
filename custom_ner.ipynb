{
 "cells": [
  {
   "cell_type": "code",
   "execution_count": 1,
   "id": "09b63c2d",
   "metadata": {},
   "outputs": [],
   "source": [
    "import spacy\n",
    "from spacy import displacy"
   ]
  },
  {
   "cell_type": "code",
   "execution_count": 2,
   "id": "be305455",
   "metadata": {},
   "outputs": [],
   "source": [
    "nlp = spacy.load(\"en_core_web_sm\")"
   ]
  },
  {
   "cell_type": "code",
   "execution_count": 3,
   "id": "1610f5e3",
   "metadata": {},
   "outputs": [],
   "source": [
    "train = [    \n",
    "(\"Shares of SVB Financial Group plummeted following the announcement of a major banking crisis.\",{\"entities\": [(10, 13, \"BLK_ORG\")]}),\n",
    "(\"The SVB crisis has sent shockwaves through the banking industry, with many other financial institutions bracing for impact.\", {\"entities\": [(4, 7, \"BLK_ORG\")]}),\n",
    "(\"SVB Financial Group, the parent company of Silicon Valley Bank, has been hit hard by the recent banking crisis.\", {\"entities\": [(0,3, \"BLK_ORG\")]}),\n",
    "(\"Customers of SVB have been advised to monitor their accounts closely following the banking crisis.\", {\"entities\": [(13, 16, \"BLK_ORG\")]}),\n",
    "(\"Many analysts are predicting that SVB Financial Group will need to take drastic action to survive the banking crisis.\", {\"entities\": [(34, 37, \"BLK_ORG\")]}),\n",
    "(\"Credit Suisse has been hit with billions of dollars in losses due to the Archegos Capital Management scandal.\", {\"entities\": [(0, 14, \"BLK_ORG\"),]}),\n",
    "(\"The Credit Suisse scandal has caused concern among investors and regulators alike.\", {\"entities\": [(4, 18, \"BLK_ORG\")]}),\n",
    "(\"Credit Suisse is facing major legal and financial repercussions as a result of the Greensill Capital collapse.\", {\"entities\": [(0, 14, \"BLK_ORG\")]}),\n",
    "(\"The future of Credit Suisse is uncertain in the wake of multiple high-profile scandals.\", {\"entities\": [(14, 27, \"BLK_ORG\")]}),\n",
    "(\"Credit Suisse CEO Thomas Gottstein has announced plans to step down in the wake of the bank's scandals.\", {\"entities\": [(0, 14, \"BLK_ORG\")]}),\n",
    "(\"The Federal Reserve (FED) announced an increase in repo rates.\", {\"entities\": [(51, 61, \"BLK_INT_RATE\"), (4, 19, \"BLK_COUNTRY\"), (21, 24, \"BLK_COUNTRY\")]}),\n",
    "(\"The Bank of England has decided to keep interest rates unchanged.\", {\"entities\": [(40, 55, \"BLK_INT_RATE\"), (12, 19, \"BLK_COUNTRY\")]}),\n",
    "(\"The European Central Bank lowered interest rates in an effort to stimulate the economy.\", {\"entities\": [(34, 47, \"BLK_INT_RATE\"), (4, 12, \"BLK_COUNTRY\")]}),\n",
    "(\"Many experts predict that interest rates will continue to rise in USA the coming months.\", {\"entities\": [(26, 40, \"BLK_INT_RATE\"), (66, 69, \"BLK_COUNTRY\")]}),\n",
    "(\"The Reserve Bank of Australia raised interest rates for the first time in over a year.\", {\"entities\": [(37, 50, \"BLK_INT_RATE\"), (20, 29, \"BLK_COUNTRY\")]}),\n",
    "(\"The Bank of Japan has kept interest rates at record lows for several years.\", {\"entities\": [(27, 41, \"BLK_INT_RATE\"), (12, 17, \"BLK_COUNTRY\")]})\n",
    "]"
   ]
  },
  {
   "cell_type": "code",
   "execution_count": 4,
   "id": "7869ab77",
   "metadata": {},
   "outputs": [],
   "source": [
    "import pandas as pd\n",
    "import os\n",
    "from tqdm import tqdm\n",
    "from spacy.tokens import DocBin"
   ]
  },
  {
   "cell_type": "code",
   "execution_count": 5,
   "id": "5ea53268",
   "metadata": {},
   "outputs": [
    {
     "name": "stderr",
     "output_type": "stream",
     "text": [
      "100%|████████████████████████████████████████████████████████████████████████████████| 16/16 [00:00<00:00, 1332.64it/s]\n"
     ]
    }
   ],
   "source": [
    "db = DocBin() # create a DocBin object\n",
    "\n",
    "for text, annot in tqdm(train): # data in previous format\n",
    "    doc = nlp.make_doc(text) # create doc object from text\n",
    "    ents = []\n",
    "    for start, end, label in annot[\"entities\"]: # add character indexes\n",
    "        span = doc.char_span(start, end, label=label, alignment_mode=\"contract\")\n",
    "        if span is None:\n",
    "            print(\"Skipping entity\")\n",
    "        else:\n",
    "            ents.append(span)\n",
    "    doc.ents = ents # label the text with the ents\n",
    "    db.add(doc)\n",
    "\n",
    "db.to_disk(\"./train.spacy\") # save the docbin object"
   ]
  },
  {
   "cell_type": "code",
   "execution_count": 8,
   "id": "4a7bd13e",
   "metadata": {},
   "outputs": [
    {
     "name": "stdout",
     "output_type": "stream",
     "text": [
      "\u001b[38;5;2m[+] Auto-filled config with all values\u001b[0m\n",
      "\u001b[38;5;2m[+] Saved config\u001b[0m\n",
      "config.cfg\n",
      "You can now add your data and train your pipeline:\n",
      "python -m spacy train config.cfg --paths.train ./train.spacy --paths.dev ./dev.spacy\n"
     ]
    }
   ],
   "source": [
    "!python -m spacy init fill-config base_config.cfg config.cfg"
   ]
  },
  {
   "cell_type": "code",
   "execution_count": 9,
   "id": "8303028a",
   "metadata": {},
   "outputs": [
    {
     "name": "stdout",
     "output_type": "stream",
     "text": [
      "\u001b[38;5;4m[i] Saving to output directory: output\u001b[0m\n",
      "\u001b[38;5;4m[i] Using CPU\u001b[0m\n",
      "\u001b[1m\n",
      "=========================== Initializing pipeline ===========================\u001b[0m\n",
      "\u001b[38;5;2m[+] Initialized pipeline\u001b[0m\n",
      "\u001b[1m\n",
      "============================= Training pipeline =============================\u001b[0m\n",
      "\u001b[38;5;4m[i] Pipeline: ['tok2vec', 'ner']\u001b[0m\n",
      "\u001b[38;5;4m[i] Initial learn rate: 0.001\u001b[0m\n",
      "E    #       LOSS TOK2VEC  LOSS NER  ENTS_F  ENTS_P  ENTS_R  SCORE \n",
      "---  ------  ------------  --------  ------  ------  ------  ------\n",
      "  0       0          0.00     46.14    0.00    0.00    0.00    0.00\n",
      " 66     200         57.10   1070.27  100.00  100.00  100.00    1.00\n",
      "163     400          0.00      0.00  100.00  100.00  100.00    1.00\n",
      "263     600          0.00      0.00  100.00  100.00  100.00    1.00\n",
      "363     800          0.00      0.00  100.00  100.00  100.00    1.00\n",
      "561    1000          0.00      0.00  100.00  100.00  100.00    1.00\n",
      "761    1200          0.00      0.00  100.00  100.00  100.00    1.00\n",
      "961    1400          0.00      0.00  100.00  100.00  100.00    1.00\n",
      "1161    1600          0.00      0.00  100.00  100.00  100.00    1.00\n",
      "1361    1800          0.00      0.00  100.00  100.00  100.00    1.00\n",
      "\u001b[38;5;2m[+] Saved pipeline to output directory\u001b[0m\n",
      "output\\model-last\n"
     ]
    },
    {
     "name": "stderr",
     "output_type": "stream",
     "text": [
      "[2023-04-15 18:30:47,199] [INFO] Set up nlp object from config\n",
      "[2023-04-15 18:30:47,207] [INFO] Pipeline: ['tok2vec', 'ner']\n",
      "[2023-04-15 18:30:47,209] [INFO] Created vocabulary\n",
      "[2023-04-15 18:30:47,210] [INFO] Finished initializing nlp object\n",
      "[2023-04-15 18:30:47,288] [INFO] Initialized pipeline components: ['tok2vec', 'ner']\n"
     ]
    }
   ],
   "source": [
    "!python -m spacy train config.cfg --output ./output --paths.train ./train.spacy --paths.dev ./train.spacy"
   ]
  },
  {
   "cell_type": "code",
   "execution_count": 6,
   "id": "afad3d53",
   "metadata": {},
   "outputs": [
    {
     "data": {
      "text/html": [
       "<span class=\"tex2jax_ignore\"><div class=\"entities\" style=\"line-height: 2.5; direction: ltr\">Shares of \n",
       "<mark class=\"entity\" style=\"background: #ddd; padding: 0.45em 0.6em; margin: 0 0.25em; line-height: 1; border-radius: 0.35em;\">\n",
       "    SVB\n",
       "    <span style=\"font-size: 0.8em; font-weight: bold; line-height: 1; border-radius: 0.35em; vertical-align: middle; margin-left: 0.5rem\">BLK_ORG</span>\n",
       "</mark>\n",
       " Financial Group plummeted following the announcement of a major banking crisis.</div></span>"
      ],
      "text/plain": [
       "<IPython.core.display.HTML object>"
      ]
     },
     "metadata": {},
     "output_type": "display_data"
    }
   ],
   "source": [
    "nlp1 = spacy.load(r\"./output/model-best\") #load the best model\n",
    "# Shares of SVB Financial Group plummeted following the announcement of a major banking crisis.\n",
    "# Testing if our model is able to capture interest rate and repo rate\n",
    "doc = nlp1(\"Shares of SVB Financial Group plummeted following the announcement of a major banking crisis.\") # input sample text\n",
    "displacy.render(doc,style=\"ent\",jupyter=True)"
   ]
  },
  {
   "cell_type": "code",
   "execution_count": 24,
   "id": "6713dba8",
   "metadata": {},
   "outputs": [
    {
     "data": {
      "text/plain": [
       "SVB"
      ]
     },
     "execution_count": 24,
     "metadata": {},
     "output_type": "execute_result"
    }
   ],
   "source": [
    "doc.ents[0]"
   ]
  },
  {
   "cell_type": "code",
   "execution_count": 25,
   "id": "1d8065d7",
   "metadata": {},
   "outputs": [],
   "source": [
    "def get_entity(doc):\n",
    "    entity_label = {}\n",
    "    tup = doc.ents\n",
    "    for i in range(len(tup)):\n",
    "        entity_label[tup[i]] = tup[i].label_\n",
    "    return entity_label"
   ]
  },
  {
   "cell_type": "code",
   "execution_count": 26,
   "id": "505de22e",
   "metadata": {},
   "outputs": [
    {
     "data": {
      "text/plain": [
       "{SVB: 'BLK_ORG'}"
      ]
     },
     "execution_count": 26,
     "metadata": {},
     "output_type": "execute_result"
    }
   ],
   "source": [
    "get_entity(doc)"
   ]
  },
  {
   "cell_type": "code",
   "execution_count": null,
   "id": "93c0c240",
   "metadata": {},
   "outputs": [],
   "source": []
  }
 ],
 "metadata": {
  "kernelspec": {
   "display_name": "Python 3 (ipykernel)",
   "language": "python",
   "name": "python3"
  },
  "language_info": {
   "codemirror_mode": {
    "name": "ipython",
    "version": 3
   },
   "file_extension": ".py",
   "mimetype": "text/x-python",
   "name": "python",
   "nbconvert_exporter": "python",
   "pygments_lexer": "ipython3",
   "version": "3.9.7"
  }
 },
 "nbformat": 4,
 "nbformat_minor": 5
}
