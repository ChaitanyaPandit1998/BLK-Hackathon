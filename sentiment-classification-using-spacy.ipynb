{
 "cells": [
  {
   "cell_type": "markdown",
   "metadata": {
    "id": "uDnsGjKidRQp"
   },
   "source": [
    "### Importing Necessary Libraries\n",
    "\n"
   ]
  },
  {
   "cell_type": "code",
   "execution_count": 2,
   "metadata": {
    "execution": {
     "iopub.execute_input": "2023-04-08T09:04:50.184071Z",
     "iopub.status.busy": "2023-04-08T09:04:50.183537Z",
     "iopub.status.idle": "2023-04-08T09:04:51.281550Z",
     "shell.execute_reply": "2023-04-08T09:04:51.280350Z",
     "shell.execute_reply.started": "2023-04-08T09:04:50.184011Z"
    },
    "id": "WPuiBRl7aHiC",
    "outputId": "8883b945-f874-4700-e8c8-d5d6fffba8c4"
   },
   "outputs": [],
   "source": [
    "import spacy\n",
    "from spacy import displacy\n",
    "import pandas as pd\n",
    "from sklearn.model_selection import train_test_split\n",
    "from sklearn.pipeline import Pipeline\n",
    "from sklearn.feature_extraction.text import TfidfVectorizer\n",
    "from sklearn.metrics import confusion_matrix, classification_report, accuracy_score\n",
    "from sklearn.svm import LinearSVC\n",
    "from sklearn.ensemble import RandomForestClassifier\n",
    "from sklearn.ensemble import GradientBoostingClassifier\n",
    "import string"
   ]
  },
  {
   "cell_type": "markdown",
   "metadata": {},
   "source": [
    "## Loading SpaCy's small english model"
   ]
  },
  {
   "cell_type": "markdown",
   "metadata": {},
   "source": [
    "To get more details regarding SpaCy models check here : https://spacy.io/usage/models"
   ]
  },
  {
   "cell_type": "code",
   "execution_count": 3,
   "metadata": {
    "execution": {
     "iopub.execute_input": "2023-04-08T09:02:49.486041Z",
     "iopub.status.busy": "2023-04-08T09:02:49.485588Z",
     "iopub.status.idle": "2023-04-08T09:02:50.152975Z",
     "shell.execute_reply": "2023-04-08T09:02:50.151840Z",
     "shell.execute_reply.started": "2023-04-08T09:02:49.485991Z"
    },
    "id": "nujppuMjbTOB"
   },
   "outputs": [],
   "source": [
    "# Loading Spacy small model as nlp\n",
    "nlp = spacy.load(\"en_core_web_sm\")"
   ]
  },
  {
   "cell_type": "markdown",
   "metadata": {},
   "source": [
    "## Gathering all the Stop words which does not convey much meaning in the Sentiment"
   ]
  },
  {
   "cell_type": "code",
   "execution_count": 4,
   "metadata": {
    "execution": {
     "iopub.execute_input": "2023-04-08T09:02:50.154670Z",
     "iopub.status.busy": "2023-04-08T09:02:50.154362Z",
     "iopub.status.idle": "2023-04-08T09:02:50.160086Z",
     "shell.execute_reply": "2023-04-08T09:02:50.159123Z",
     "shell.execute_reply.started": "2023-04-08T09:02:50.154640Z"
    },
    "id": "m90EIAg5cTQG",
    "outputId": "c570dbff-1b65-4792-a2b0-342b24ba921d"
   },
   "outputs": [
    {
     "name": "stdout",
     "output_type": "stream",
     "text": [
      "326\n"
     ]
    }
   ],
   "source": [
    "# Gathering all the stopwords\n",
    "from spacy.lang.en.stop_words import STOP_WORDS\n",
    "stopwords = list(STOP_WORDS)\n",
    "print(len(stopwords))"
   ]
  },
  {
   "cell_type": "code",
   "execution_count": 5,
   "metadata": {
    "execution": {
     "iopub.execute_input": "2023-04-08T09:02:50.161805Z",
     "iopub.status.busy": "2023-04-08T09:02:50.161453Z",
     "iopub.status.idle": "2023-04-08T09:02:50.182429Z",
     "shell.execute_reply": "2023-04-08T09:02:50.181467Z",
     "shell.execute_reply.started": "2023-04-08T09:02:50.161773Z"
    },
    "id": "SmsVXflwcrrJ",
    "outputId": "33ad0c05-4ae0-4c49-9be1-a6ab1adaa812"
   },
   "outputs": [
    {
     "data": {
      "text/html": [
       "<div>\n",
       "<style scoped>\n",
       "    .dataframe tbody tr th:only-of-type {\n",
       "        vertical-align: middle;\n",
       "    }\n",
       "\n",
       "    .dataframe tbody tr th {\n",
       "        vertical-align: top;\n",
       "    }\n",
       "\n",
       "    .dataframe thead th {\n",
       "        text-align: right;\n",
       "    }\n",
       "</style>\n",
       "<table border=\"1\" class=\"dataframe\">\n",
       "  <thead>\n",
       "    <tr style=\"text-align: right;\">\n",
       "      <th></th>\n",
       "      <th>0</th>\n",
       "      <th>1</th>\n",
       "    </tr>\n",
       "  </thead>\n",
       "  <tbody>\n",
       "    <tr>\n",
       "      <th>0</th>\n",
       "      <td>Wow... Loved this place.</td>\n",
       "      <td>1</td>\n",
       "    </tr>\n",
       "    <tr>\n",
       "      <th>1</th>\n",
       "      <td>Crust is not good.</td>\n",
       "      <td>0</td>\n",
       "    </tr>\n",
       "    <tr>\n",
       "      <th>2</th>\n",
       "      <td>Not tasty and the texture was just nasty.</td>\n",
       "      <td>0</td>\n",
       "    </tr>\n",
       "    <tr>\n",
       "      <th>3</th>\n",
       "      <td>Stopped by during the late May bank holiday of...</td>\n",
       "      <td>1</td>\n",
       "    </tr>\n",
       "    <tr>\n",
       "      <th>4</th>\n",
       "      <td>The selection on the menu was great and so wer...</td>\n",
       "      <td>1</td>\n",
       "    </tr>\n",
       "  </tbody>\n",
       "</table>\n",
       "</div>"
      ],
      "text/plain": [
       "                                                   0  1\n",
       "0                           Wow... Loved this place.  1\n",
       "1                                 Crust is not good.  0\n",
       "2          Not tasty and the texture was just nasty.  0\n",
       "3  Stopped by during the late May bank holiday of...  1\n",
       "4  The selection on the menu was great and so wer...  1"
      ]
     },
     "execution_count": 5,
     "metadata": {},
     "output_type": "execute_result"
    }
   ],
   "source": [
    "# Loading yelp dataset\n",
    "data_yelp = pd.read_csv('dataset/yelp_labelled.txt',\n",
    "                        sep='\\t', header= None)\n",
    "data_yelp.head()"
   ]
  },
  {
   "cell_type": "code",
   "execution_count": 6,
   "metadata": {
    "execution": {
     "iopub.execute_input": "2023-04-08T09:02:50.185774Z",
     "iopub.status.busy": "2023-04-08T09:02:50.185438Z",
     "iopub.status.idle": "2023-04-08T09:02:50.196632Z",
     "shell.execute_reply": "2023-04-08T09:02:50.195535Z",
     "shell.execute_reply.started": "2023-04-08T09:02:50.185743Z"
    },
    "id": "EY9NeiFAdD0v",
    "outputId": "cc1a9800-fc37-4fa3-d5ae-149244b8d427"
   },
   "outputs": [
    {
     "data": {
      "text/html": [
       "<div>\n",
       "<style scoped>\n",
       "    .dataframe tbody tr th:only-of-type {\n",
       "        vertical-align: middle;\n",
       "    }\n",
       "\n",
       "    .dataframe tbody tr th {\n",
       "        vertical-align: top;\n",
       "    }\n",
       "\n",
       "    .dataframe thead th {\n",
       "        text-align: right;\n",
       "    }\n",
       "</style>\n",
       "<table border=\"1\" class=\"dataframe\">\n",
       "  <thead>\n",
       "    <tr style=\"text-align: right;\">\n",
       "      <th></th>\n",
       "      <th>Review</th>\n",
       "      <th>Sentiment</th>\n",
       "    </tr>\n",
       "  </thead>\n",
       "  <tbody>\n",
       "    <tr>\n",
       "      <th>0</th>\n",
       "      <td>Wow... Loved this place.</td>\n",
       "      <td>1</td>\n",
       "    </tr>\n",
       "    <tr>\n",
       "      <th>1</th>\n",
       "      <td>Crust is not good.</td>\n",
       "      <td>0</td>\n",
       "    </tr>\n",
       "    <tr>\n",
       "      <th>2</th>\n",
       "      <td>Not tasty and the texture was just nasty.</td>\n",
       "      <td>0</td>\n",
       "    </tr>\n",
       "    <tr>\n",
       "      <th>3</th>\n",
       "      <td>Stopped by during the late May bank holiday of...</td>\n",
       "      <td>1</td>\n",
       "    </tr>\n",
       "    <tr>\n",
       "      <th>4</th>\n",
       "      <td>The selection on the menu was great and so wer...</td>\n",
       "      <td>1</td>\n",
       "    </tr>\n",
       "  </tbody>\n",
       "</table>\n",
       "</div>"
      ],
      "text/plain": [
       "                                              Review  Sentiment\n",
       "0                           Wow... Loved this place.          1\n",
       "1                                 Crust is not good.          0\n",
       "2          Not tasty and the texture was just nasty.          0\n",
       "3  Stopped by during the late May bank holiday of...          1\n",
       "4  The selection on the menu was great and so wer...          1"
      ]
     },
     "execution_count": 6,
     "metadata": {},
     "output_type": "execute_result"
    }
   ],
   "source": [
    "# Adding column names to the dataframe\n",
    "columnName = ['Review','Sentiment']\n",
    "data_yelp.columns = columnName\n",
    "data_yelp.head()"
   ]
  },
  {
   "cell_type": "markdown",
   "metadata": {},
   "source": [
    "## So here we can deduce that Sentiment 1 is Positive and 0 is negative"
   ]
  },
  {
   "cell_type": "code",
   "execution_count": 7,
   "metadata": {
    "execution": {
     "iopub.execute_input": "2023-04-08T09:02:50.200190Z",
     "iopub.status.busy": "2023-04-08T09:02:50.199787Z",
     "iopub.status.idle": "2023-04-08T09:02:50.205650Z",
     "shell.execute_reply": "2023-04-08T09:02:50.204812Z",
     "shell.execute_reply.started": "2023-04-08T09:02:50.200149Z"
    },
    "id": "aUdmn-6AeckX",
    "outputId": "a93d9cc1-29ac-4e33-8b68-189e649a320c"
   },
   "outputs": [
    {
     "name": "stdout",
     "output_type": "stream",
     "text": [
      "(1000, 2)\n"
     ]
    }
   ],
   "source": [
    "print(data_yelp.shape)"
   ]
  },
  {
   "cell_type": "code",
   "execution_count": 16,
   "metadata": {
    "execution": {
     "iopub.execute_input": "2023-04-08T09:02:50.207880Z",
     "iopub.status.busy": "2023-04-08T09:02:50.207472Z",
     "iopub.status.idle": "2023-04-08T09:02:50.225655Z",
     "shell.execute_reply": "2023-04-08T09:02:50.224594Z",
     "shell.execute_reply.started": "2023-04-08T09:02:50.207847Z"
    },
    "id": "qQueov_XdL7b",
    "outputId": "ddcabed8-a2c6-4dbd-dc39-b55808a1c95b"
   },
   "outputs": [
    {
     "data": {
      "text/html": [
       "<div>\n",
       "<style scoped>\n",
       "    .dataframe tbody tr th:only-of-type {\n",
       "        vertical-align: middle;\n",
       "    }\n",
       "\n",
       "    .dataframe tbody tr th {\n",
       "        vertical-align: top;\n",
       "    }\n",
       "\n",
       "    .dataframe thead th {\n",
       "        text-align: right;\n",
       "    }\n",
       "</style>\n",
       "<table border=\"1\" class=\"dataframe\">\n",
       "  <thead>\n",
       "    <tr style=\"text-align: right;\">\n",
       "      <th></th>\n",
       "      <th>Review</th>\n",
       "      <th>Sentiment</th>\n",
       "    </tr>\n",
       "  </thead>\n",
       "  <tbody>\n",
       "    <tr>\n",
       "      <th>0</th>\n",
       "      <td>So there is no way for me to plug it in here i...</td>\n",
       "      <td>0</td>\n",
       "    </tr>\n",
       "    <tr>\n",
       "      <th>1</th>\n",
       "      <td>Good case, Excellent value.</td>\n",
       "      <td>1</td>\n",
       "    </tr>\n",
       "    <tr>\n",
       "      <th>2</th>\n",
       "      <td>Great for the jawbone.</td>\n",
       "      <td>1</td>\n",
       "    </tr>\n",
       "    <tr>\n",
       "      <th>3</th>\n",
       "      <td>Tied to charger for conversations lasting more...</td>\n",
       "      <td>0</td>\n",
       "    </tr>\n",
       "    <tr>\n",
       "      <th>4</th>\n",
       "      <td>The mic is great.</td>\n",
       "      <td>1</td>\n",
       "    </tr>\n",
       "  </tbody>\n",
       "</table>\n",
       "</div>"
      ],
      "text/plain": [
       "                                              Review  Sentiment\n",
       "0  So there is no way for me to plug it in here i...          0\n",
       "1                        Good case, Excellent value.          1\n",
       "2                             Great for the jawbone.          1\n",
       "3  Tied to charger for conversations lasting more...          0\n",
       "4                                  The mic is great.          1"
      ]
     },
     "execution_count": 16,
     "metadata": {},
     "output_type": "execute_result"
    }
   ],
   "source": [
    "# Adding Amazon dataset and adding its column name\n",
    "data_amz = pd.read_csv(\"dataset/amazon_cells_labelled.txt\",\n",
    "                        sep='\\t', header= None)\n",
    "data_amz.columns = columnName\n",
    "data_amz.head()"
   ]
  },
  {
   "cell_type": "code",
   "execution_count": 17,
   "metadata": {
    "execution": {
     "iopub.execute_input": "2023-04-08T09:02:50.227463Z",
     "iopub.status.busy": "2023-04-08T09:02:50.227067Z",
     "iopub.status.idle": "2023-04-08T09:02:50.235567Z",
     "shell.execute_reply": "2023-04-08T09:02:50.233458Z",
     "shell.execute_reply.started": "2023-04-08T09:02:50.227422Z"
    },
    "id": "1nz_dIL6efAL",
    "outputId": "ebdd55fb-19f3-4fd7-c83e-ae4a111b55df"
   },
   "outputs": [
    {
     "name": "stdout",
     "output_type": "stream",
     "text": [
      "(1000, 2)\n"
     ]
    }
   ],
   "source": [
    "print(data_amz.shape)"
   ]
  },
  {
   "cell_type": "code",
   "execution_count": 18,
   "metadata": {
    "execution": {
     "iopub.execute_input": "2023-04-08T09:02:50.237048Z",
     "iopub.status.busy": "2023-04-08T09:02:50.236720Z",
     "iopub.status.idle": "2023-04-08T09:02:50.252316Z",
     "shell.execute_reply": "2023-04-08T09:02:50.251328Z",
     "shell.execute_reply.started": "2023-04-08T09:02:50.237019Z"
    },
    "id": "RlmibXduefiM",
    "outputId": "54942c4b-b3b9-49d2-8ed4-96d9e36ef9db"
   },
   "outputs": [
    {
     "data": {
      "text/html": [
       "<div>\n",
       "<style scoped>\n",
       "    .dataframe tbody tr th:only-of-type {\n",
       "        vertical-align: middle;\n",
       "    }\n",
       "\n",
       "    .dataframe tbody tr th {\n",
       "        vertical-align: top;\n",
       "    }\n",
       "\n",
       "    .dataframe thead th {\n",
       "        text-align: right;\n",
       "    }\n",
       "</style>\n",
       "<table border=\"1\" class=\"dataframe\">\n",
       "  <thead>\n",
       "    <tr style=\"text-align: right;\">\n",
       "      <th></th>\n",
       "      <th>Review</th>\n",
       "      <th>Sentiment</th>\n",
       "    </tr>\n",
       "  </thead>\n",
       "  <tbody>\n",
       "    <tr>\n",
       "      <th>0</th>\n",
       "      <td>A very, very, very slow-moving, aimless movie ...</td>\n",
       "      <td>0</td>\n",
       "    </tr>\n",
       "    <tr>\n",
       "      <th>1</th>\n",
       "      <td>Not sure who was more lost - the flat characte...</td>\n",
       "      <td>0</td>\n",
       "    </tr>\n",
       "    <tr>\n",
       "      <th>2</th>\n",
       "      <td>Attempting artiness with black &amp; white and cle...</td>\n",
       "      <td>0</td>\n",
       "    </tr>\n",
       "    <tr>\n",
       "      <th>3</th>\n",
       "      <td>Very little music or anything to speak of.</td>\n",
       "      <td>0</td>\n",
       "    </tr>\n",
       "    <tr>\n",
       "      <th>4</th>\n",
       "      <td>The best scene in the movie was when Gerardo i...</td>\n",
       "      <td>1</td>\n",
       "    </tr>\n",
       "  </tbody>\n",
       "</table>\n",
       "</div>"
      ],
      "text/plain": [
       "                                              Review  Sentiment\n",
       "0  A very, very, very slow-moving, aimless movie ...          0\n",
       "1  Not sure who was more lost - the flat characte...          0\n",
       "2  Attempting artiness with black & white and cle...          0\n",
       "3       Very little music or anything to speak of.            0\n",
       "4  The best scene in the movie was when Gerardo i...          1"
      ]
     },
     "execution_count": 18,
     "metadata": {},
     "output_type": "execute_result"
    }
   ],
   "source": [
    "# Adding IMdB dataset and adding its column name\n",
    "data_imdb = pd.read_csv(\"dataset/imdb_labelled.txt\",\n",
    "                        sep='\\t', header= None)\n",
    "data_imdb.columns = columnName\n",
    "data_imdb.head()"
   ]
  },
  {
   "cell_type": "code",
   "execution_count": 19,
   "metadata": {
    "execution": {
     "iopub.execute_input": "2023-04-08T09:02:50.253739Z",
     "iopub.status.busy": "2023-04-08T09:02:50.253409Z",
     "iopub.status.idle": "2023-04-08T09:02:50.258485Z",
     "shell.execute_reply": "2023-04-08T09:02:50.257366Z",
     "shell.execute_reply.started": "2023-04-08T09:02:50.253700Z"
    },
    "id": "W-KvuCuHeuUg",
    "outputId": "c65c1fd1-f36f-4064-be72-ee7cfeb16190"
   },
   "outputs": [
    {
     "name": "stdout",
     "output_type": "stream",
     "text": [
      "(748, 2)\n"
     ]
    }
   ],
   "source": [
    "print(data_imdb.shape)"
   ]
  },
  {
   "cell_type": "markdown",
   "metadata": {},
   "source": [
    "## Appending all the Datasets"
   ]
  },
  {
   "cell_type": "code",
   "execution_count": 20,
   "metadata": {
    "execution": {
     "iopub.execute_input": "2023-04-08T09:02:50.260024Z",
     "iopub.status.busy": "2023-04-08T09:02:50.259676Z",
     "iopub.status.idle": "2023-04-08T09:02:50.270713Z",
     "shell.execute_reply": "2023-04-08T09:02:50.269794Z",
     "shell.execute_reply.started": "2023-04-08T09:02:50.259994Z"
    },
    "id": "e_XOzJ3Key4E",
    "outputId": "665e1e7c-eb23-4d3d-8c60-15950fc02ba8"
   },
   "outputs": [
    {
     "name": "stdout",
     "output_type": "stream",
     "text": [
      "(2748, 2)\n"
     ]
    }
   ],
   "source": [
    "# Merging all the three dataframes\n",
    "data = data_yelp.append([data_amz, data_imdb], ignore_index=True)\n",
    "print(data.shape)"
   ]
  },
  {
   "cell_type": "code",
   "execution_count": 21,
   "metadata": {
    "execution": {
     "iopub.execute_input": "2023-04-08T09:02:50.272457Z",
     "iopub.status.busy": "2023-04-08T09:02:50.272132Z",
     "iopub.status.idle": "2023-04-08T09:02:50.283972Z",
     "shell.execute_reply": "2023-04-08T09:02:50.282848Z",
     "shell.execute_reply.started": "2023-04-08T09:02:50.272427Z"
    },
    "id": "JHl1q35JfCmQ",
    "outputId": "089cebc8-75d6-45b8-9258-b2942e53a4df"
   },
   "outputs": [
    {
     "data": {
      "text/plain": [
       "1    1386\n",
       "0    1362\n",
       "Name: Sentiment, dtype: int64"
      ]
     },
     "execution_count": 21,
     "metadata": {},
     "output_type": "execute_result"
    }
   ],
   "source": [
    "# Sentiment ditribution in the dataset\n",
    "data.Sentiment.value_counts()"
   ]
  },
  {
   "cell_type": "code",
   "execution_count": 22,
   "metadata": {
    "execution": {
     "iopub.execute_input": "2023-04-08T09:02:50.285914Z",
     "iopub.status.busy": "2023-04-08T09:02:50.285393Z",
     "iopub.status.idle": "2023-04-08T09:02:50.293989Z",
     "shell.execute_reply": "2023-04-08T09:02:50.293199Z",
     "shell.execute_reply.started": "2023-04-08T09:02:50.285860Z"
    },
    "id": "n9L8Vq3jfHrl",
    "outputId": "92f815a0-77b6-4836-f9cc-239892cc7641"
   },
   "outputs": [
    {
     "data": {
      "text/plain": [
       "Review       0\n",
       "Sentiment    0\n",
       "dtype: int64"
      ]
     },
     "execution_count": 22,
     "metadata": {},
     "output_type": "execute_result"
    }
   ],
   "source": [
    "# Getting information regarding the null entries in the dataset\n",
    "data.isnull().sum()"
   ]
  },
  {
   "cell_type": "code",
   "execution_count": 23,
   "metadata": {
    "execution": {
     "iopub.execute_input": "2023-04-08T09:02:50.295712Z",
     "iopub.status.busy": "2023-04-08T09:02:50.295205Z",
     "iopub.status.idle": "2023-04-08T09:02:50.301588Z",
     "shell.execute_reply": "2023-04-08T09:02:50.300479Z",
     "shell.execute_reply.started": "2023-04-08T09:02:50.295665Z"
    },
    "id": "WH5Ca5fvfN1J",
    "outputId": "c48f7813-0ad5-4c8d-854d-1ada68472eb5"
   },
   "outputs": [
    {
     "name": "stdout",
     "output_type": "stream",
     "text": [
      "!\"#$%&'()*+,-./:;<=>?@[\\]^_`{|}~\n"
     ]
    }
   ],
   "source": [
    "punct = string.punctuation\n",
    "print(punct)"
   ]
  },
  {
   "cell_type": "markdown",
   "metadata": {
    "id": "DqrObkD7h0mQ"
   },
   "source": [
    "\n",
    "\n",
    "```\n",
    "Here in the reviews we will find many stop words which do not add any meaning to the review.\n",
    "Also punctuations will be encountered in the review which which will be considered as a seperate token by our model\n",
    "So removing all the stop words and punctuation so that our model can train efficiently\n",
    "```\n",
    "\n"
   ]
  },
  {
   "cell_type": "code",
   "execution_count": 24,
   "metadata": {
    "execution": {
     "iopub.execute_input": "2023-04-08T09:02:50.303021Z",
     "iopub.status.busy": "2023-04-08T09:02:50.302726Z",
     "iopub.status.idle": "2023-04-08T09:02:50.314370Z",
     "shell.execute_reply": "2023-04-08T09:02:50.313534Z",
     "shell.execute_reply.started": "2023-04-08T09:02:50.302991Z"
    },
    "id": "HKxbf5WBfhwg"
   },
   "outputs": [],
   "source": [
    "def dataCleaning(sentence):\n",
    "    doc = nlp(sentence)\n",
    "    tokens = []\n",
    "    for token in doc:\n",
    "        if token.lemma_ != '-PRON-':\n",
    "            temp = token.lemma_.lower().strip()\n",
    "        else:\n",
    "            temp = token.lower_\n",
    "        tokens.append(temp)\n",
    "    clean_tokens = []\n",
    "    for token in tokens:\n",
    "        if token not in punct and token not in stopwords:\n",
    "            clean_tokens.append(token)\n",
    "    return clean_tokens"
   ]
  },
  {
   "cell_type": "markdown",
   "metadata": {},
   "source": [
    "## Here after passing a particular sentence in dataCleaning method we are returned with relevant words which contribute to the sentiments"
   ]
  },
  {
   "cell_type": "code",
   "execution_count": 25,
   "metadata": {
    "execution": {
     "iopub.execute_input": "2023-04-08T09:02:50.316204Z",
     "iopub.status.busy": "2023-04-08T09:02:50.315710Z",
     "iopub.status.idle": "2023-04-08T09:02:50.341181Z",
     "shell.execute_reply": "2023-04-08T09:02:50.340329Z",
     "shell.execute_reply.started": "2023-04-08T09:02:50.316169Z"
    },
    "id": "yVT_Yym0js_N",
    "outputId": "4dd878b2-34be-400d-abb1-d52fd3c6c32a"
   },
   "outputs": [
    {
     "data": {
      "text/plain": [
       "['today',\n",
       " 'heavy',\n",
       " 'rainfall',\n",
       " 'recommend',\n",
       " 'stay',\n",
       " 'home',\n",
       " 'safe',\n",
       " 'start',\n",
       " 'run']"
      ]
     },
     "execution_count": 25,
     "metadata": {},
     "output_type": "execute_result"
    }
   ],
   "source": [
    "dataCleaning(\"Today we are having heavy rainfall, We recommend you to stay at your home and be safe, Do not start running here and there\")\n",
    "# All the useful words are returned, no punctuations no stop words and in the lemmatized form"
   ]
  },
  {
   "cell_type": "code",
   "execution_count": 26,
   "metadata": {
    "execution": {
     "iopub.execute_input": "2023-04-08T09:02:50.344029Z",
     "iopub.status.busy": "2023-04-08T09:02:50.343592Z",
     "iopub.status.idle": "2023-04-08T09:02:50.355146Z",
     "shell.execute_reply": "2023-04-08T09:02:50.354205Z",
     "shell.execute_reply.started": "2023-04-08T09:02:50.343983Z"
    },
    "id": "eTxGmm0_ktFt",
    "outputId": "8be908e7-2dd9-46a4-d8a2-ade433486049"
   },
   "outputs": [
    {
     "name": "stdout",
     "output_type": "stream",
     "text": [
      "(2198,) (550,)\n"
     ]
    }
   ],
   "source": [
    "# Spillting the train and test data\n",
    "X = data['Review']\n",
    "y = data['Sentiment']\n",
    "X_train, X_test, y_train, y_test = train_test_split(X, y, test_size = 0.2)\n",
    "print(X_train.shape,y_test.shape)"
   ]
  },
  {
   "cell_type": "markdown",
   "metadata": {},
   "source": [
    "## Preparing Model"
   ]
  },
  {
   "cell_type": "code",
   "execution_count": 37,
   "metadata": {
    "execution": {
     "iopub.execute_input": "2023-04-08T09:05:03.973447Z",
     "iopub.status.busy": "2023-04-08T09:05:03.972922Z",
     "iopub.status.idle": "2023-04-08T09:05:03.979538Z",
     "shell.execute_reply": "2023-04-08T09:05:03.978445Z",
     "shell.execute_reply.started": "2023-04-08T09:05:03.973411Z"
    },
    "id": "xKwAQK5qktD0"
   },
   "outputs": [],
   "source": [
    "# Creating the model and pipeline\n",
    "tfidf = TfidfVectorizer(tokenizer = dataCleaning)\n",
    "svm = LinearSVC()\n",
    "steps = [('tfidf',tfidf),('svm',svm)]\n",
    "pipe = Pipeline(steps)"
   ]
  },
  {
   "cell_type": "code",
   "execution_count": 38,
   "metadata": {
    "execution": {
     "iopub.execute_input": "2023-04-08T09:05:08.383028Z",
     "iopub.status.busy": "2023-04-08T09:05:08.382533Z",
     "iopub.status.idle": "2023-04-08T09:05:29.681081Z",
     "shell.execute_reply": "2023-04-08T09:05:29.680293Z",
     "shell.execute_reply.started": "2023-04-08T09:05:08.382993Z"
    },
    "id": "ZlaTICpJktC1",
    "outputId": "f0bfe29b-b61d-4395-f41c-77d6d4ee356b"
   },
   "outputs": [
    {
     "data": {
      "text/plain": [
       "Pipeline(steps=[('tfidf',\n",
       "                 TfidfVectorizer(tokenizer=<function dataCleaning at 0x000001FC13CAD430>)),\n",
       "                ('svm', LinearSVC())])"
      ]
     },
     "execution_count": 38,
     "metadata": {},
     "output_type": "execute_result"
    }
   ],
   "source": [
    "# Training the model\n",
    "pipe.fit(X_train,y_train)"
   ]
  },
  {
   "cell_type": "code",
   "execution_count": 39,
   "metadata": {
    "execution": {
     "iopub.execute_input": "2023-04-08T09:05:29.683423Z",
     "iopub.status.busy": "2023-04-08T09:05:29.683140Z",
     "iopub.status.idle": "2023-04-08T09:05:34.714112Z",
     "shell.execute_reply": "2023-04-08T09:05:34.713091Z",
     "shell.execute_reply.started": "2023-04-08T09:05:29.683396Z"
    },
    "id": "IavuQuDJktAH"
   },
   "outputs": [],
   "source": [
    "# Testing on the test dataset\n",
    "y_pred = pipe.predict(X_test)"
   ]
  },
  {
   "cell_type": "code",
   "execution_count": 40,
   "metadata": {
    "execution": {
     "iopub.execute_input": "2023-04-08T09:05:34.715929Z",
     "iopub.status.busy": "2023-04-08T09:05:34.715622Z",
     "iopub.status.idle": "2023-04-08T09:05:34.729068Z",
     "shell.execute_reply": "2023-04-08T09:05:34.727971Z",
     "shell.execute_reply.started": "2023-04-08T09:05:34.715899Z"
    },
    "id": "2mPpPGkDmCzX",
    "outputId": "32d56cfe-f7f4-4e0d-ae07-c6ab0c12bfde"
   },
   "outputs": [
    {
     "name": "stdout",
     "output_type": "stream",
     "text": [
      "              precision    recall  f1-score   support\n",
      "\n",
      "           0       0.82      0.74      0.78       301\n",
      "           1       0.72      0.81      0.76       249\n",
      "\n",
      "    accuracy                           0.77       550\n",
      "   macro avg       0.77      0.77      0.77       550\n",
      "weighted avg       0.78      0.77      0.77       550\n",
      "\n",
      "\n",
      "\n",
      "\n",
      "[[223  78]\n",
      " [ 48 201]]\n"
     ]
    }
   ],
   "source": [
    "# Printing the classification report and the confusion matrix\n",
    "print(classification_report(y_test,y_pred))\n",
    "print(\"\\n\\n\")\n",
    "print(confusion_matrix(y_test,y_pred))"
   ]
  },
  {
   "cell_type": "markdown",
   "metadata": {},
   "source": [
    "## Testing on the Random Manual Examples"
   ]
  },
  {
   "cell_type": "markdown",
   "metadata": {},
   "source": [
    "**Here '1' represent that the input is positive sentiment**"
   ]
  },
  {
   "cell_type": "code",
   "execution_count": 31,
   "metadata": {
    "execution": {
     "iopub.execute_input": "2023-04-08T09:05:34.731087Z",
     "iopub.status.busy": "2023-04-08T09:05:34.730647Z",
     "iopub.status.idle": "2023-04-08T09:05:34.749766Z",
     "shell.execute_reply": "2023-04-08T09:05:34.748900Z",
     "shell.execute_reply.started": "2023-04-08T09:05:34.731043Z"
    },
    "id": "TOcACsrQks9x",
    "outputId": "373e6231-6ae6-4473-ddbf-a4b88cb8386a"
   },
   "outputs": [
    {
     "data": {
      "text/plain": [
       "array([1], dtype=int64)"
      ]
     },
     "execution_count": 31,
     "metadata": {},
     "output_type": "execute_result"
    }
   ],
   "source": [
    "# Testing on random inputs\n",
    "pipe.predict([\"Wow you are an amazing person\"])"
   ]
  },
  {
   "cell_type": "markdown",
   "metadata": {},
   "source": [
    "**Here '0' represent that input is negative sentiment**"
   ]
  },
  {
   "cell_type": "code",
   "execution_count": 32,
   "metadata": {
    "execution": {
     "iopub.execute_input": "2023-04-08T09:05:34.752048Z",
     "iopub.status.busy": "2023-04-08T09:05:34.751756Z",
     "iopub.status.idle": "2023-04-08T09:05:34.768446Z",
     "shell.execute_reply": "2023-04-08T09:05:34.767562Z",
     "shell.execute_reply.started": "2023-04-08T09:05:34.752019Z"
    },
    "id": "Pfo44Ij9m2OY",
    "outputId": "cd64a1e6-6882-4fc9-9f81-c6cf3e861b1a"
   },
   "outputs": [
    {
     "data": {
      "text/plain": [
       "array([0], dtype=int64)"
      ]
     },
     "execution_count": 32,
     "metadata": {},
     "output_type": "execute_result"
    }
   ],
   "source": [
    "pipe.predict([\"you suck\"])"
   ]
  },
  {
   "cell_type": "markdown",
   "metadata": {
    "id": "hbOH_5vcgO6s"
   },
   "source": [
    "### Footnotes\n",
    "https://towardsdatascience.com/natural-language-processing-feature-engineering-using-tf-idf-e8b9d00e7e76\n",
    "\n",
    "https://towardsdatascience.com/a-simple-example-of-pipeline-in-machine-learning-with-scikit-learn-e726ffbb6976\n"
   ]
  },
  {
   "cell_type": "code",
   "execution_count": null,
   "metadata": {},
   "outputs": [],
   "source": []
  }
 ],
 "metadata": {
  "kernelspec": {
   "display_name": "Python 3 (ipykernel)",
   "language": "python",
   "name": "python3"
  },
  "language_info": {
   "codemirror_mode": {
    "name": "ipython",
    "version": 3
   },
   "file_extension": ".py",
   "mimetype": "text/x-python",
   "name": "python",
   "nbconvert_exporter": "python",
   "pygments_lexer": "ipython3",
   "version": "3.9.7"
  }
 },
 "nbformat": 4,
 "nbformat_minor": 4
}
