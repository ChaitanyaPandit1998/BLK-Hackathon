{
 "cells": [
  {
   "cell_type": "code",
   "execution_count": 1,
   "id": "2910378c",
   "metadata": {},
   "outputs": [],
   "source": [
    "# url user provided\n",
    "url = ''\n",
    "# headline parsed using beautiful soup\n",
    "headline = ''\n",
    "# text parsed using beautiful soup\n",
    "text = ''"
   ]
  },
  {
   "cell_type": "code",
   "execution_count": 3,
   "id": "c8a6f321",
   "metadata": {},
   "outputs": [],
   "source": [
    "def get_news(url,headline,text):\n",
    "    news = {}\n",
    "    news['url'] = url\n",
    "    news['headline'] = headline\n",
    "    news['text'] = text\n",
    "    return news"
   ]
  },
  {
   "cell_type": "code",
   "execution_count": 4,
   "id": "a50b22bc",
   "metadata": {},
   "outputs": [
    {
     "data": {
      "text/plain": [
       "{'url': '', 'headline': '', 'text': ''}"
      ]
     },
     "execution_count": 4,
     "metadata": {},
     "output_type": "execute_result"
    }
   ],
   "source": [
    "get_news_object(url,headline,text)"
   ]
  },
  {
   "cell_type": "code",
   "execution_count": 8,
   "id": "36748b7a",
   "metadata": {},
   "outputs": [],
   "source": [
    "def get_entity(doc):\n",
    "    entity_label = {}\n",
    "    tup = doc.ents\n",
    "    for i in range(len(tup)):\n",
    "        entity_label[tup[i]] = tup[i].label_\n",
    "    return entity_label"
   ]
  },
  {
   "cell_type": "code",
   "execution_count": 9,
   "id": "fe3f5b54",
   "metadata": {},
   "outputs": [],
   "source": [
    "def get_sentiment(pipe,sentence):\n",
    "    prob_list = pipe.predict_proba([sentence]).flatten()\n",
    "    sent = {}\n",
    "    ver_pos_prob = prob_list[0]\n",
    "    pos_prob = prob_list[1]\n",
    "    neg_prob = prob_list[2]\n",
    "    very_neg_prob = prob_list[3]\n",
    "    sum_pos_prob = very_pos_prob + pos_prob\n",
    "    sum_neg_prob = very_neg_prob + neg_prob\n",
    "    if sum_pos_prob > sum_neg_prob:\n",
    "        sent['Confidence'] = sum_pos_prob\n",
    "        if very_pos_prob > pos_prob:\n",
    "            sent['Sentiment'] = 'VERY POSITIVE'\n",
    "        else:\n",
    "            sent['Sentiment'] = 'POSITIVE'\n",
    "    elif sum_pos_prob < sum_neg_prob:\n",
    "        sent['Confidence'] = sum_neg_prob\n",
    "        if very_neg_prob > neg_prob:\n",
    "            sent['Sentiment'] = 'VERY NEGATIVE'\n",
    "        else:\n",
    "            sent['Sentiment'] = 'NEGATIVE'\n",
    "    else:\n",
    "        sent['Sentiment'] = 'NEUTRAL'\n",
    "        \n",
    "    return sent"
   ]
  },
  {
   "cell_type": "code",
   "execution_count": null,
   "id": "cafd435d",
   "metadata": {},
   "outputs": [],
   "source": []
  }
 ],
 "metadata": {
  "kernelspec": {
   "display_name": "Python 3 (ipykernel)",
   "language": "python",
   "name": "python3"
  },
  "language_info": {
   "codemirror_mode": {
    "name": "ipython",
    "version": 3
   },
   "file_extension": ".py",
   "mimetype": "text/x-python",
   "name": "python",
   "nbconvert_exporter": "python",
   "pygments_lexer": "ipython3",
   "version": "3.9.7"
  }
 },
 "nbformat": 4,
 "nbformat_minor": 5
}
