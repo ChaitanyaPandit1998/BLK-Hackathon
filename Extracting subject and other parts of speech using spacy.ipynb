{
 "cells": [
  {
   "cell_type": "code",
   "execution_count": 1,
   "id": "f12cd912",
   "metadata": {},
   "outputs": [],
   "source": [
    "import spacy"
   ]
  },
  {
   "cell_type": "code",
   "execution_count": 2,
   "id": "db7037dc",
   "metadata": {},
   "outputs": [],
   "source": [
    "nlp = spacy.load('en_core_web_sm')"
   ]
  },
  {
   "cell_type": "code",
   "execution_count": 49,
   "id": "99a152fe",
   "metadata": {},
   "outputs": [],
   "source": [
    "sentences=[\"The big black cat stared at the small dog.\",\n",
    "           \"Jane watched her brother in the evenings.\",\n",
    "          \"Silicon Valley’s Favorite Bank Was Its Single Point of Failure.\",\n",
    "          \"For 40 years, Silicon Valley Bank enmeshed itself in the venture capital community, often with the comfortable touches of a beloved hometown bank. Sequoia Capital partner Michael Moritz compared the bank to a “cherished local market” where the people behind the counter knew every customer’s name and sold them their cut of meat with a smile. SVB and its employees could be counted on to “tend community gardens, supply food banks, or provide companionship to the elderly,” he wrote March 12 in an op-ed article in the Financial Times. Until the events of the previous week, he said, Sequoia always recommended that new startups open an account with SVB.\",\n",
    "          \"The fall of Silicon Valley Bank revives memories of Lehman Brothers' bankruptcy. The two situations have some fundamental differences, but there is enough in common that the risks that SVB could spark a new global financial crisis is very real.\",\n",
    "          \"The two highly related commercial banks are JP Morgan and Morgan Stanley \",\n",
    "          \"Fall of SVB and Jp Morgan\"]"
   ]
  },
  {
   "cell_type": "code",
   "execution_count": 50,
   "id": "f87671fe",
   "metadata": {},
   "outputs": [],
   "source": [
    "def get_subject_phrase(doc):\n",
    "    for token in doc:\n",
    "        if (\"subj\" in token.dep_):\n",
    "            subtree = list(token.subtree)\n",
    "            start = subtree[0].i\n",
    "            end = subtree[-1].i + 1\n",
    "            return doc[start:end]"
   ]
  },
  {
   "cell_type": "code",
   "execution_count": 51,
   "id": "1100842b",
   "metadata": {},
   "outputs": [],
   "source": [
    "def get_object_phrase(doc):\n",
    "    for token in doc:\n",
    "        if (\"dobj\" in token.dep_):\n",
    "            subtree = list(token.subtree)\n",
    "            start = subtree[0].i\n",
    "            end = subtree[-1].i + 1\n",
    "            return doc[start:end]"
   ]
  },
  {
   "cell_type": "code",
   "execution_count": 52,
   "id": "0bb23414",
   "metadata": {},
   "outputs": [],
   "source": [
    "def get_dative_phrase(doc):\n",
    "    for token in doc:\n",
    "        if (\"dative\" in token.dep_):\n",
    "            subtree = list(token.subtree)\n",
    "            start = subtree[0].i\n",
    "            end = subtree[-1].i + 1\n",
    "            return doc[start:end]"
   ]
  },
  {
   "cell_type": "code",
   "execution_count": 53,
   "id": "e96b2a0b",
   "metadata": {},
   "outputs": [],
   "source": [
    "def get_prepositional_phrase_objs(doc):\n",
    "    prep_spans = []\n",
    "    for token in doc:\n",
    "        if (\"pobj\" in token.dep_):\n",
    "            subtree = list(token.subtree)\n",
    "            start = subtree[0].i\n",
    "            end = subtree[-1].i + 1\n",
    "            prep_spans.append(doc[start:end])\n",
    "    return prep_spans"
   ]
  },
  {
   "cell_type": "code",
   "execution_count": 54,
   "id": "18e7cfa1",
   "metadata": {},
   "outputs": [
    {
     "name": "stdout",
     "output_type": "stream",
     "text": [
      "Subject:  The big black cat\n",
      "Object:  None\n",
      "Dative:  None\n",
      "Prepositional:  [the small dog]\n",
      "\n",
      "\n",
      "Subject:  Jane\n",
      "Object:  her brother\n",
      "Dative:  None\n",
      "Prepositional:  [the evenings]\n",
      "\n",
      "\n",
      "Subject:  Silicon Valley’s Favorite Bank\n",
      "Object:  None\n",
      "Dative:  None\n",
      "Prepositional:  [Failure]\n",
      "\n",
      "\n",
      "Subject:  Silicon Valley Bank\n",
      "Object:  itself\n",
      "Dative:  them\n",
      "Prepositional:  [40 years, the venture capital community, the comfortable touches of a beloved hometown bank, a beloved hometown bank, a “cherished local market” where the people behind the counter knew every customer’s name and sold them their cut of meat with a smile, the counter, meat, a smile, the elderly, an op-ed article in the Financial Times, the Financial Times, the events of the previous week, the previous week, SVB]\n",
      "\n",
      "\n",
      "Subject:  The fall of Silicon Valley Bank\n",
      "Object:  memories of Lehman Brothers' bankruptcy\n",
      "Dative:  None\n",
      "Prepositional:  [Silicon Valley Bank, Lehman Brothers' bankruptcy]\n",
      "\n",
      "\n",
      "Subject:  The two highly related commercial banks\n",
      "Object:  None\n",
      "Dative:  None\n",
      "Prepositional:  []\n",
      "\n",
      "\n",
      "Subject:  None\n",
      "Object:  None\n",
      "Dative:  None\n",
      "Prepositional:  [SVB and Jp Morgan]\n",
      "\n",
      "\n"
     ]
    }
   ],
   "source": [
    "for sentence in sentences:\n",
    "    doc = nlp(sentence)\n",
    "    subject_phrase = get_subject_phrase(doc)\n",
    "    object_phrase = get_object_phrase(doc)\n",
    "    dative_phrase = get_dative_phrase(doc)\n",
    "    prepositional_phrase = get_prepositional_phrase_objs(doc)\n",
    "    print(\"Subject: \",subject_phrase)\n",
    "    print(\"Object: \",object_phrase)\n",
    "    print(\"Dative: \",dative_phrase)\n",
    "    print(\"Prepositional: \",prepositional_phrase)\n",
    "    print(\"\\n\")"
   ]
  },
  {
   "cell_type": "code",
   "execution_count": null,
   "id": "88f2356a",
   "metadata": {},
   "outputs": [],
   "source": []
  },
  {
   "cell_type": "code",
   "execution_count": null,
   "id": "df61639a",
   "metadata": {},
   "outputs": [],
   "source": []
  }
 ],
 "metadata": {
  "kernelspec": {
   "display_name": "Python 3 (ipykernel)",
   "language": "python",
   "name": "python3"
  },
  "language_info": {
   "codemirror_mode": {
    "name": "ipython",
    "version": 3
   },
   "file_extension": ".py",
   "mimetype": "text/x-python",
   "name": "python",
   "nbconvert_exporter": "python",
   "pygments_lexer": "ipython3",
   "version": "3.9.7"
  }
 },
 "nbformat": 4,
 "nbformat_minor": 5
}
